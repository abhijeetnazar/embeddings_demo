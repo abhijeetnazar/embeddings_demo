{
 "cells": [
  {
   "cell_type": "code",
   "execution_count": 4,
   "metadata": {},
   "outputs": [],
   "source": [
    "import pandas as pd\n",
    "import numpy as np\n",
    "from openai.embeddings_utils import get_embedding\n",
    "from openai.embeddings_utils import cosine_similarity\n",
    "import openai\n",
    "import os\n",
    "\n",
    "# Set your variables here\n",
    "openai.api_key = 'enteryourkey'\n",
    "file_name= \"course.csv\""
   ]
  },
  {
   "attachments": {},
   "cell_type": "markdown",
   "metadata": {},
   "source": [
    "# Functions"
   ]
  },
  {
   "cell_type": "code",
   "execution_count": 5,
   "metadata": {},
   "outputs": [],
   "source": [
    "embedding_model = 'text-embedding-ada-002'\n",
    "\n",
    "def get_embedding(model: str, text: str) -> list[float]:\n",
    "  \"\"\"Get embeddings for given input string\n",
    "\n",
    "  Args:\n",
    "      model (str): Name of the model\n",
    "      text (str): Text needs to be converred\n",
    "\n",
    "  Returns:\n",
    "      list[float]: List of array\n",
    "  \"\"\"\n",
    "  result = openai.Embedding.create(\n",
    "    model = model,\n",
    "    input = text\n",
    "  )\n",
    "  return result['data'][0]['embedding']\n",
    "\n",
    "def get_answer(my_input:str,df_local):\n",
    "  \"\"\"Compare arrays and return result based if similarity is above threshold\n",
    "\n",
    "  Args:\n",
    "      my_input (str): _description_\n",
    "      df_local (_type_): _description_\n",
    "\n",
    "  Returns:\n",
    "      _type_: _description_\n",
    "  \"\"\"\n",
    "  input_embedding_vector = get_embedding(embedding_model, my_input)\n",
    "  \n",
    "  df_local['embedding2'] = df_local['embedding'].apply(eval).apply(np.array)\n",
    "  df_local['similarity'] = df_local['embedding2'].apply(lambda x: cosine_similarity(x, input_embedding_vector))\n",
    "  # Find the highest similarity value in the dataframe column 'similarity'\n",
    "  highest_similarity = df_local['similarity'].max()\n",
    "\n",
    "  # If the highest similarity value is equal or higher than 0.9 then print the 'content' with the highest similarity\n",
    "  if highest_similarity >= 0.8:\n",
    "      fact_with_highest_similarity = df_local.loc[df_local['similarity'] == highest_similarity, 'completion']\n",
    "      return str(fact_with_highest_similarity.values)\n",
    "  else:\n",
    "    return \"Sorry please ask your question again.\""
   ]
  },
  {
   "attachments": {},
   "cell_type": "markdown",
   "metadata": {},
   "source": [
    "# Convert to Embedding\n",
    "- Check if file exists\n",
    "- Read the file and save embedding as new file.\n",
    "- Load file to df for comparison"
   ]
  },
  {
   "cell_type": "code",
   "execution_count": 7,
   "metadata": {},
   "outputs": [],
   "source": [
    "embeddings_name = os.path.splitext(file_name)[0] + \"_embeddings.csv\"\n",
    "if os.path.exists(embeddings_name):\n",
    "  df = pd.read_csv(embeddings_name)\n",
    "else:\n",
    "  df = pd.read_csv(file_name)\n",
    "  df.head(1)\n",
    "  df['embedding'] = df['prompt'].apply(lambda x: get_embedding(embedding_model,x))\n",
    "  df.to_csv(embeddings_name)\n",
    "  df = pd.read_csv(embeddings_name)"
   ]
  },
  {
   "cell_type": "code",
   "execution_count": 13,
   "metadata": {},
   "outputs": [
    {
     "data": {
      "text/plain": [
       "\"['Absolutely Yes! Our Selenium Automation Online training is designed to equip you with the skill set needed to secure a great job in the field. Our comprehensive course material, in-depth curriculum and hands-on exercises prepare you for challenges in the real-world. Our specialists will also guide you through the interview process. Finally, our certification ensures that you will become an employable asset in the industry.']\""
      ]
     },
     "execution_count": 13,
     "metadata": {},
     "output_type": "execute_result"
    }
   ],
   "source": [
    "my_input = 'job after training?'\n",
    "get_answer(my_input,df)"
   ]
  }
 ],
 "metadata": {
  "kernelspec": {
   "display_name": "Python 3 (ipykernel)",
   "language": "python",
   "name": "python3"
  },
  "language_info": {
   "codemirror_mode": {
    "name": "ipython",
    "version": 3
   },
   "file_extension": ".py",
   "mimetype": "text/x-python",
   "name": "python",
   "nbconvert_exporter": "python",
   "pygments_lexer": "ipython3",
   "version": "3.9.16"
  },
  "orig_nbformat": 4,
  "vscode": {
   "interpreter": {
    "hash": "b0fa6594d8f4cbf19f97940f81e996739fb7646882a419484c72d19e05852a7e"
   }
  }
 },
 "nbformat": 4,
 "nbformat_minor": 2
}
